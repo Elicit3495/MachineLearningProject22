{
 "cells": [
  {
   "cell_type": "code",
   "execution_count": null,
   "id": "eb3aff7f",
   "metadata": {},
   "outputs": [],
   "source": [
    "import numpy as np\n",
    "import sklearn\n",
    "from matplotlib import pyplot as plt\n",
    "from yellowbrick.model_selection import learning_curve\n",
    "from sklearn.model_selection import validation_curve\n",
    "from sklearn.preprocessing import StandardScaler\n",
    "from sklearn.svm import SVC\n",
    "from sklearn.datasets import fetch_openml\n",
    "from sklearn.model_selection import train_test_split\n",
    "from tensorflow.keras.datasets import fashion_mnist\n",
    "from sklearn.decomposition import PCA\n",
    "from sklearn.linear_model import LogisticRegression\n",
    "from sklearn.metrics import confusion_matrix\n",
    "from sklearn.utils import shuffle\n",
    "from sklearn.model_selection import cross_validate\n",
    "from sklearn.model_selection import KFold\n",
    "from sklearnex import patch_sklearn"
   ]
  },
  {
   "cell_type": "code",
   "execution_count": null,
   "id": "0ef89aa4",
   "metadata": {},
   "outputs": [],
   "source": [
    "patch_sklearn()"
   ]
  },
  {
   "cell_type": "code",
   "execution_count": null,
   "id": "4be60e12",
   "metadata": {},
   "outputs": [],
   "source": [
    "X_mnist, y_mnist = fetch_openml(name='Fashion-MNIST',return_X_y=True, as_frame=False)"
   ]
  },
  {
   "cell_type": "code",
   "execution_count": null,
   "id": "8afc9182",
   "metadata": {},
   "outputs": [],
   "source": []
  },
  {
   "cell_type": "code",
   "execution_count": null,
   "id": "293627c6",
   "metadata": {},
   "outputs": [],
   "source": [
    "X_train, X_test, y_train, y_test = train_test_split(X_mnist, y_mnist, test_size=0.90)"
   ]
  },
  {
   "cell_type": "code",
   "execution_count": null,
   "id": "0b3da54a",
   "metadata": {},
   "outputs": [],
   "source": [
    "# scaler = StandardScaler()\n",
    "# X_train_new = scaler.fit_transform(X_train)\n",
    "X_train = X_train / 255.\n",
    "X_test = X_test / 255.\n",
    "# y_train = y_train / 255\n",
    "# y_test = y_test / 255\n",
    "X_train.shape\n",
    "y_train.shape"
   ]
  },
  {
   "cell_type": "code",
   "execution_count": null,
   "id": "9fd29ffb",
   "metadata": {},
   "outputs": [],
   "source": [
    "param_range = np.logspace(-6, -1, 5)\n",
    "train_scores, test_scores = validation_curve(\n",
    "    SVC(), X_train, y_train, param_name=\"gamma\", param_range=param_range,\n",
    "    cv=10, scoring=\"accuracy\", n_jobs=1)\n",
    "train_scores_mean = np.mean(train_scores, axis=1)\n",
    "train_scores_std = np.std(train_scores, axis=1)\n",
    "test_scores_mean = np.mean(test_scores, axis=1)\n",
    "test_scores_std = np.std(test_scores, axis=1)"
   ]
  },
  {
   "cell_type": "code",
   "execution_count": null,
   "id": "39b20f25",
   "metadata": {},
   "outputs": [],
   "source": [
    "y_train.shape"
   ]
  },
  {
   "cell_type": "code",
   "execution_count": null,
   "id": "115d8903",
   "metadata": {},
   "outputs": [],
   "source": []
  },
  {
   "cell_type": "code",
   "execution_count": null,
   "id": "3f22f1ba",
   "metadata": {},
   "outputs": [],
   "source": [
    "svm_clf = SVC(kernel='sigmoid', cache_size=10000)\n",
    "svm_clf.fit(X_train, y_train)"
   ]
  },
  {
   "cell_type": "code",
   "execution_count": null,
   "id": "07947e82",
   "metadata": {},
   "outputs": [],
   "source": [
    "y_new = np.array(y_train)\n",
    "y_new.shape"
   ]
  },
  {
   "cell_type": "code",
   "execution_count": null,
   "id": "57f2bd3d",
   "metadata": {},
   "outputs": [],
   "source": []
  },
  {
   "cell_type": "code",
   "execution_count": null,
   "id": "8e0a2a0b",
   "metadata": {},
   "outputs": [],
   "source": []
  },
  {
   "cell_type": "code",
   "execution_count": null,
   "id": "df299e35",
   "metadata": {
    "scrolled": true
   },
   "outputs": [],
   "source": [
    "learning_curve(svm_clf, \n",
    "                     X_train, \n",
    "                     y_train, \n",
    "                     cv=5, \n",
    "                     scoring='accuracy')"
   ]
  },
  {
   "cell_type": "code",
   "execution_count": null,
   "id": "44a745d8",
   "metadata": {},
   "outputs": [],
   "source": [
    "def curve_plot(X, y, estimator, num_training):\n",
    "    train_sizes, train_scores, test_scores = learning_curve(\n",
    "    estimator, X, y, cv=5, n_jobs=1, train_sizes=np.linspace(0, 1, num_training))\n",
    "    \n",
    "    print(learning_curve.train_sizes)\n",
    "    print(train_sizes)\n",
    "    print(train_scores)\n",
    "    print(test_scores)\n",
    "        "
   ]
  }
 ],
 "metadata": {
  "kernelspec": {
   "display_name": "Python 3 (ipykernel)",
   "language": "python",
   "name": "python3"
  },
  "language_info": {
   "codemirror_mode": {
    "name": "ipython",
    "version": 3
   },
   "file_extension": ".py",
   "mimetype": "text/x-python",
   "name": "python",
   "nbconvert_exporter": "python",
   "pygments_lexer": "ipython3",
   "version": "3.8.8"
  }
 },
 "nbformat": 4,
 "nbformat_minor": 5
}
