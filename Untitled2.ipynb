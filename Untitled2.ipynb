{
 "cells": [
  {
   "cell_type": "markdown",
   "id": "ed2072c8",
   "metadata": {},
   "source": [
    "### Importing Libraries\n"
   ]
  },
  {
   "cell_type": "code",
   "execution_count": 1,
   "id": "2e18bad5",
   "metadata": {},
   "outputs": [],
   "source": [
    "import numpy as np\n",
    "import keras as kr#to build neural network\n",
    "import matplotlib.pyplot as plt\n",
    "import seaborn as sns\n",
    "import tensorflow as tf\n",
    "import sklearn\n",
    "from mlxtend.plotting import plot_decision_regions\n",
    "from keras import optimizers\n",
    "from sklearn.datasets import fetch_openml\n",
    "from sklearn.preprocessing import StandardScaler\n",
    "from sklearn.model_selection import train_test_split\n",
    "from sklearn.linear_model import LinearRegression, LogisticRegression"
   ]
  },
  {
   "cell_type": "code",
   "execution_count": 2,
   "id": "3b497eca",
   "metadata": {},
   "outputs": [],
   "source": [
    "(X_train, y_train), (X_validation, y_validation) = tf.keras.datasets.fashion_mnist.load_data()"
   ]
  },
  {
   "cell_type": "code",
   "execution_count": 3,
   "id": "cce15cec",
   "metadata": {},
   "outputs": [
    {
     "data": {
      "text/plain": [
       "(0.0, 1.0, 0.0, 1.0)"
      ]
     },
     "execution_count": 3,
     "metadata": {},
     "output_type": "execute_result"
    }
   ],
   "source": [
    "X_flatten = X_train / 255.\n",
    "X_validation = X_validation / 255.\n",
    "\n",
    "X_flatten.min(), X_flatten.max(), X_validation.min(), X_validation.max()"
   ]
  },
  {
   "cell_type": "code",
   "execution_count": 20,
   "id": "3aedf359",
   "metadata": {},
   "outputs": [
    {
     "name": "stdout",
     "output_type": "stream",
     "text": [
      "Epoch 1/20\n",
      "6000/6000 [==============================] - 11s 2ms/step - loss: 0.9561 - accuracy: 0.6639 - val_loss: 0.7948 - val_accuracy: 0.7092\n",
      "Epoch 2/20\n",
      "6000/6000 [==============================] - 11s 2ms/step - loss: 0.7700 - accuracy: 0.7140 - val_loss: 0.7286 - val_accuracy: 0.7183\n",
      "Epoch 3/20\n",
      "6000/6000 [==============================] - 11s 2ms/step - loss: 0.7262 - accuracy: 0.7265 - val_loss: 0.7060 - val_accuracy: 0.7314\n",
      "Epoch 4/20\n",
      "6000/6000 [==============================] - 11s 2ms/step - loss: 0.7373 - accuracy: 0.7138 - val_loss: 0.7013 - val_accuracy: 0.7438\n",
      "Epoch 5/20\n",
      "6000/6000 [==============================] - 12s 2ms/step - loss: 0.7244 - accuracy: 0.7217 - val_loss: 0.6877 - val_accuracy: 0.7277\n",
      "Epoch 6/20\n",
      "6000/6000 [==============================] - 11s 2ms/step - loss: 0.7003 - accuracy: 0.7254 - val_loss: 0.6567 - val_accuracy: 0.7321\n",
      "Epoch 7/20\n",
      "6000/6000 [==============================] - 13s 2ms/step - loss: 0.7179 - accuracy: 0.7189 - val_loss: 0.6782 - val_accuracy: 0.7455\n",
      "Epoch 8/20\n",
      "6000/6000 [==============================] - 12s 2ms/step - loss: 0.6886 - accuracy: 0.7411 - val_loss: 0.6622 - val_accuracy: 0.7460\n",
      "Epoch 9/20\n",
      "6000/6000 [==============================] - 15s 2ms/step - loss: 0.6866 - accuracy: 0.7336 - val_loss: 0.6865 - val_accuracy: 0.7255\n",
      "Epoch 10/20\n",
      "6000/6000 [==============================] - 13s 2ms/step - loss: 0.6729 - accuracy: 0.7439 - val_loss: 0.6244 - val_accuracy: 0.7635\n",
      "Epoch 11/20\n",
      "6000/6000 [==============================] - 16s 3ms/step - loss: 0.6565 - accuracy: 0.7558 - val_loss: 0.6108 - val_accuracy: 0.7759\n",
      "Epoch 12/20\n",
      "6000/6000 [==============================] - 16s 3ms/step - loss: 0.6478 - accuracy: 0.7513 - val_loss: 0.6206 - val_accuracy: 0.7692\n",
      "Epoch 13/20\n",
      "6000/6000 [==============================] - 17s 3ms/step - loss: 0.6531 - accuracy: 0.7526 - val_loss: 0.6210 - val_accuracy: 0.7646\n",
      "Epoch 14/20\n",
      "6000/6000 [==============================] - 20s 3ms/step - loss: 0.6416 - accuracy: 0.7632 - val_loss: 0.6350 - val_accuracy: 0.7544\n",
      "Epoch 15/20\n",
      "6000/6000 [==============================] - 21s 4ms/step - loss: 0.6554 - accuracy: 0.7520 - val_loss: 0.6381 - val_accuracy: 0.7733\n",
      "Epoch 16/20\n",
      "6000/6000 [==============================] - 16s 3ms/step - loss: 0.6274 - accuracy: 0.7634 - val_loss: 0.5958 - val_accuracy: 0.7726\n",
      "Epoch 17/20\n",
      "6000/6000 [==============================] - 15s 3ms/step - loss: 0.6216 - accuracy: 0.7686 - val_loss: 0.6019 - val_accuracy: 0.7728\n",
      "Epoch 18/20\n",
      "6000/6000 [==============================] - 16s 3ms/step - loss: 0.6314 - accuracy: 0.7630 - val_loss: 0.6182 - val_accuracy: 0.7687\n",
      "Epoch 19/20\n",
      "6000/6000 [==============================] - 17s 3ms/step - loss: 0.6276 - accuracy: 0.7685 - val_loss: 0.6126 - val_accuracy: 0.7791\n",
      "Epoch 20/20\n",
      "6000/6000 [==============================] - 22s 4ms/step - loss: 0.6288 - accuracy: 0.7720 - val_loss: 0.5947 - val_accuracy: 0.7910\n"
     ]
    }
   ],
   "source": [
    "ANN_model = tf.keras.Sequential([\n",
    "    tf.keras.layers.Flatten(input_shape=(28,28)),\n",
    "    tf.keras.layers.Dense(units=128, activation=\"sigmoid\"),\n",
    "    tf.keras.layers.Dense(10)\n",
    "#     tf.keras.layers.BatchNormalization(\n",
    "#     axis=-1,\n",
    "#     momentum=0.99,\n",
    "#     epsilon=0.001,\n",
    "#     center=True,\n",
    "#     scale=True,\n",
    "#     beta_initializer=\"zeros\",\n",
    "#     gamma_initializer=\"ones\",\n",
    "#     moving_mean_initializer=\"zeros\",\n",
    "#     moving_variance_initializer=\"ones\",\n",
    "#     beta_regularizer=None,\n",
    "#     gamma_regularizer=None,\n",
    "#     beta_constraint=None,\n",
    "#     gamma_constraint=None,\n",
    "# )\n",
    "])\n",
    "#optimizer = \"adam\", loss = tf.keras.losses.SparseCategoricalCrossentropy(from_logits=True)\n",
    "ANN_model.compile(optimizer=\"adam\",\n",
    "                  loss=tf.keras.losses.SparseCategoricalCrossentropy(from_logits=True),\n",
    "                  metrics=[\"accuracy\"],)\n",
    "model = ANN_model.fit(X_train, y_train, \n",
    "                      validation_data=(X_validation, y_validation),\n",
    "                      batch_size=10,\n",
    "                      epochs=20)"
   ]
  },
  {
   "cell_type": "code",
   "execution_count": 21,
   "id": "b77036f3",
   "metadata": {},
   "outputs": [
    {
     "data": {
      "text/plain": [
       "{'loss': [0.9561294913291931,\n",
       "  0.7700312733650208,\n",
       "  0.7262154817581177,\n",
       "  0.7372881770133972,\n",
       "  0.7244156002998352,\n",
       "  0.7003390192985535,\n",
       "  0.717930257320404,\n",
       "  0.6886478662490845,\n",
       "  0.6866230964660645,\n",
       "  0.6729315519332886,\n",
       "  0.6564525365829468,\n",
       "  0.6478144526481628,\n",
       "  0.6530770063400269,\n",
       "  0.6415531635284424,\n",
       "  0.6554389595985413,\n",
       "  0.6273934245109558,\n",
       "  0.6215975880622864,\n",
       "  0.6313597559928894,\n",
       "  0.6275748610496521,\n",
       "  0.6288020014762878],\n",
       " 'accuracy': [0.6639000177383423,\n",
       "  0.7139666676521301,\n",
       "  0.7265499830245972,\n",
       "  0.7138166427612305,\n",
       "  0.7217333316802979,\n",
       "  0.7254499793052673,\n",
       "  0.7189333438873291,\n",
       "  0.7410833239555359,\n",
       "  0.7335666418075562,\n",
       "  0.7438833117485046,\n",
       "  0.755816638469696,\n",
       "  0.7512666583061218,\n",
       "  0.7526333332061768,\n",
       "  0.7631833553314209,\n",
       "  0.7519999742507935,\n",
       "  0.7634333372116089,\n",
       "  0.7686333060264587,\n",
       "  0.7630166411399841,\n",
       "  0.7685166597366333,\n",
       "  0.7720333337783813],\n",
       " 'val_loss': [0.7947927713394165,\n",
       "  0.728622555732727,\n",
       "  0.7060363292694092,\n",
       "  0.7012915015220642,\n",
       "  0.6877163648605347,\n",
       "  0.6566852927207947,\n",
       "  0.6781855821609497,\n",
       "  0.6622382402420044,\n",
       "  0.6864820122718811,\n",
       "  0.6244275569915771,\n",
       "  0.6108024716377258,\n",
       "  0.6206424236297607,\n",
       "  0.62095046043396,\n",
       "  0.635041356086731,\n",
       "  0.6381449699401855,\n",
       "  0.5958462953567505,\n",
       "  0.6018615961074829,\n",
       "  0.6182219386100769,\n",
       "  0.6125931739807129,\n",
       "  0.5947320461273193],\n",
       " 'val_accuracy': [0.7092000246047974,\n",
       "  0.7182999849319458,\n",
       "  0.7314000129699707,\n",
       "  0.7437999844551086,\n",
       "  0.7276999950408936,\n",
       "  0.7321000099182129,\n",
       "  0.7455000281333923,\n",
       "  0.7459999918937683,\n",
       "  0.7254999876022339,\n",
       "  0.7634999752044678,\n",
       "  0.7759000062942505,\n",
       "  0.7692000269889832,\n",
       "  0.7645999789237976,\n",
       "  0.7544000148773193,\n",
       "  0.7732999920845032,\n",
       "  0.772599995136261,\n",
       "  0.7728000283241272,\n",
       "  0.7687000036239624,\n",
       "  0.7791000008583069,\n",
       "  0.7910000085830688]}"
      ]
     },
     "execution_count": 21,
     "metadata": {},
     "output_type": "execute_result"
    }
   ],
   "source": [
    "model.history"
   ]
  },
  {
   "cell_type": "markdown",
   "id": "31af87b6",
   "metadata": {},
   "source": []
  },
  {
   "cell_type": "code",
   "execution_count": 23,
   "id": "66d3820e",
   "metadata": {},
   "outputs": [
    {
     "data": {
      "text/plain": [
       "<matplotlib.legend.Legend at 0x283e145ca30>"
      ]
     },
     "execution_count": 23,
     "metadata": {},
     "output_type": "execute_result"
    },
    {
     "data": {
      "image/png": "[encoded data removed]",
      "text/plain": [
       "<Figure size 1400x600 with 2 Axes>"
      ]
     },
     "metadata": {},
     "output_type": "display_data"
    }
   ],
   "source": [
    "history_dict = model.history\n",
    "loss_values = history_dict['loss']\n",
    "val_loss_values = history_dict['val_loss']\n",
    "accuracy = history_dict['accuracy']\n",
    "val_accuracy = history_dict['val_accuracy']\n",
    " \n",
    "epochs = range(1, len(loss_values) + 1)\n",
    "fig, ax = plt.subplots(1, 2, figsize=(14, 6))\n",
    "#\n",
    "# Plot the model accuracy vs Epochs\n",
    "#\n",
    "ax[0].plot(epochs, accuracy, 'bo', label='Training accuracy')\n",
    "ax[0].plot(epochs, val_accuracy, 'b', label='Validation accuracy')\n",
    "ax[0].set_title('Training & Validation Accuracy', fontsize=16)\n",
    "ax[0].set_xlabel('Epochs', fontsize=16)\n",
    "ax[0].set_ylabel('Accuracy', fontsize=16)\n",
    "ax[0].legend()\n",
    "#\n",
    "# Plot the loss vs Epochs\n",
    "#\n",
    "ax[1].plot(epochs, loss_values, 'bo', label='Training loss')\n",
    "ax[1].plot(epochs, val_loss_values, 'b', label='Validation loss')\n",
    "ax[1].set_title('Training & Validation Loss', fontsize=16)\n",
    "ax[1].set_xlabel('Epochs', fontsize=16)\n",
    "ax[1].set_ylabel('Loss', fontsize=16)\n",
    "ax[1].legend()\n",
    "#https://keras.io/api/layers/activations/#sigmoid-function list of activations\n",
    "#https://keras.io/api/layers/normalization_layers/batch_normalization/\n",
    "#softmax is poor"
   ]
  },
  {
   "cell_type": "code",
   "execution_count": 24,
   "id": "c320df63",
   "metadata": {},
   "outputs": [
    {
     "data": {
      "text/plain": [
       "(60000,)"
      ]
     },
     "execution_count": 24,
     "metadata": {},
     "output_type": "execute_result"
    }
   ],
   "source": [
    "y_train.shape"
   ]
  },
  {
   "cell_type": "code",
   "execution_count": 25,
   "id": "f9237c2e",
   "metadata": {},
   "outputs": [
    {
     "ename": "ValueError",
     "evalue": "X must be a 2D array. Found (60000, 28, 28)",
     "output_type": "error",
     "traceback": [
      "\u001b[1;31m---------------------------------------------------------------------------\u001b[0m",
      "\u001b[1;31mValueError\u001b[0m                                Traceback (most recent call last)",
      "Cell \u001b[1;32mIn [25], line 1\u001b[0m\n\u001b[1;32m----> 1\u001b[0m \u001b[43mplot_decision_regions\u001b[49m\u001b[43m(\u001b[49m\u001b[43mX_train\u001b[49m\u001b[43m,\u001b[49m\u001b[43m \u001b[49m\u001b[43my_train\u001b[49m\u001b[43m,\u001b[49m\u001b[43m \u001b[49m\u001b[43mclf\u001b[49m\u001b[38;5;241;43m=\u001b[39;49m\u001b[43mmodel\u001b[49m\u001b[43m)\u001b[49m\n",
      "File \u001b[1;32m~\\anaconda3\\lib\\site-packages\\mlxtend\\plotting\\decision_regions.py:148\u001b[0m, in \u001b[0;36mplot_decision_regions\u001b[1;34m(X, y, clf, feature_index, filler_feature_values, filler_feature_ranges, ax, X_highlight, zoom_factor, legend, hide_spines, markers, colors, scatter_kwargs, contourf_kwargs, contour_kwargs, scatter_highlight_kwargs)\u001b[0m\n\u001b[0;32m     44\u001b[0m \u001b[38;5;28;01mdef\u001b[39;00m \u001b[38;5;21mplot_decision_regions\u001b[39m(\n\u001b[0;32m     45\u001b[0m     X,\n\u001b[0;32m     46\u001b[0m     y,\n\u001b[1;32m   (...)\u001b[0m\n\u001b[0;32m     65\u001b[0m     scatter_highlight_kwargs\u001b[38;5;241m=\u001b[39m\u001b[38;5;28;01mNone\u001b[39;00m,\n\u001b[0;32m     66\u001b[0m ):\n\u001b[0;32m     67\u001b[0m     \u001b[38;5;124;03m\"\"\"Plot decision regions of a classifier.\u001b[39;00m\n\u001b[0;32m     68\u001b[0m \n\u001b[0;32m     69\u001b[0m \u001b[38;5;124;03m    Please note that this functions assumes that class labels are\u001b[39;00m\n\u001b[1;32m   (...)\u001b[0m\n\u001b[0;32m    145\u001b[0m \n\u001b[0;32m    146\u001b[0m \u001b[38;5;124;03m    \"\"\"\u001b[39;00m\n\u001b[1;32m--> 148\u001b[0m     \u001b[43mcheck_Xy\u001b[49m\u001b[43m(\u001b[49m\u001b[43mX\u001b[49m\u001b[43m,\u001b[49m\u001b[43m \u001b[49m\u001b[43my\u001b[49m\u001b[43m,\u001b[49m\u001b[43m \u001b[49m\u001b[43my_int\u001b[49m\u001b[38;5;241;43m=\u001b[39;49m\u001b[38;5;28;43;01mTrue\u001b[39;49;00m\u001b[43m)\u001b[49m  \u001b[38;5;66;03m# Validate X and y arrays\u001b[39;00m\n\u001b[0;32m    149\u001b[0m     dim \u001b[38;5;241m=\u001b[39m X\u001b[38;5;241m.\u001b[39mshape[\u001b[38;5;241m1\u001b[39m]\n\u001b[0;32m    151\u001b[0m     \u001b[38;5;28;01mif\u001b[39;00m ax \u001b[38;5;129;01mis\u001b[39;00m \u001b[38;5;28;01mNone\u001b[39;00m:\n",
      "File \u001b[1;32m~\\anaconda3\\lib\\site-packages\\mlxtend\\utils\\checking.py:31\u001b[0m, in \u001b[0;36mcheck_Xy\u001b[1;34m(X, y, y_int)\u001b[0m\n\u001b[0;32m     29\u001b[0m \u001b[38;5;66;03m# check dim\u001b[39;00m\n\u001b[0;32m     30\u001b[0m \u001b[38;5;28;01mif\u001b[39;00m \u001b[38;5;28mlen\u001b[39m(X\u001b[38;5;241m.\u001b[39mshape) \u001b[38;5;241m!=\u001b[39m \u001b[38;5;241m2\u001b[39m:\n\u001b[1;32m---> 31\u001b[0m     \u001b[38;5;28;01mraise\u001b[39;00m \u001b[38;5;167;01mValueError\u001b[39;00m(\u001b[38;5;124m\"\u001b[39m\u001b[38;5;124mX must be a 2D array. Found \u001b[39m\u001b[38;5;132;01m%s\u001b[39;00m\u001b[38;5;124m\"\u001b[39m \u001b[38;5;241m%\u001b[39m \u001b[38;5;28mstr\u001b[39m(X\u001b[38;5;241m.\u001b[39mshape))\n\u001b[0;32m     32\u001b[0m \u001b[38;5;28;01mif\u001b[39;00m \u001b[38;5;28mlen\u001b[39m(y\u001b[38;5;241m.\u001b[39mshape) \u001b[38;5;241m>\u001b[39m \u001b[38;5;241m1\u001b[39m:\n\u001b[0;32m     33\u001b[0m     \u001b[38;5;28;01mraise\u001b[39;00m \u001b[38;5;167;01mValueError\u001b[39;00m(\u001b[38;5;124m\"\u001b[39m\u001b[38;5;124my must be a 1D array. Found \u001b[39m\u001b[38;5;132;01m%s\u001b[39;00m\u001b[38;5;124m\"\u001b[39m \u001b[38;5;241m%\u001b[39m \u001b[38;5;28mstr\u001b[39m(y\u001b[38;5;241m.\u001b[39mshape))\n",
      "\u001b[1;31mValueError\u001b[0m: X must be a 2D array. Found (60000, 28, 28)"
     ]
    }
   ],
   "source": [
    "plot_decision_regions(X_train, y_train, clf=model)"
   ]
  },
  {
   "cell_type": "code",
   "execution_count": null,
   "id": "31eac91c",
   "metadata": {},
   "outputs": [],
   "source": []
  },
  {
   "cell_type": "code",
   "execution_count": null,
   "id": "d27eaeb0",
   "metadata": {},
   "outputs": [],
   "source": []
  },
  {
   "cell_type": "code",
   "execution_count": null,
   "id": "954073bd",
   "metadata": {},
   "outputs": [],
   "source": []
  },
  {
   "cell_type": "code",
   "execution_count": null,
   "id": "8fdd45f9",
   "metadata": {},
   "outputs": [],
   "source": []
  },
  {
   "cell_type": "code",
   "execution_count": null,
   "id": "19789222",
   "metadata": {},
   "outputs": [],
   "source": []
  },
  {
   "cell_type": "code",
   "execution_count": null,
   "id": "48947a39",
   "metadata": {},
   "outputs": [],
   "source": []
  },
  {
   "cell_type": "code",
   "execution_count": null,
   "id": "8dd2e928",
   "metadata": {},
   "outputs": [],
   "source": []
  },
  {
   "cell_type": "code",
   "execution_count": null,
   "id": "e355d07c",
   "metadata": {},
   "outputs": [],
   "source": []
  },
  {
   "cell_type": "code",
   "execution_count": null,
   "id": "fe711ffb",
   "metadata": {},
   "outputs": [],
   "source": []
  },
  {
   "cell_type": "code",
   "execution_count": null,
   "id": "52f1e711",
   "metadata": {},
   "outputs": [],
   "source": []
  },
  {
   "cell_type": "markdown",
   "id": "23dfc05b",
   "metadata": {},
   "source": [
    "### Standardising our images"
   ]
  },
  {
   "cell_type": "code",
   "execution_count": null,
   "id": "f159d826",
   "metadata": {},
   "outputs": [],
   "source": []
  },
  {
   "cell_type": "code",
   "execution_count": null,
   "id": "47d1b17a",
   "metadata": {},
   "outputs": [],
   "source": []
  },
  {
   "cell_type": "code",
   "execution_count": null,
   "id": "57ebb52d",
   "metadata": {},
   "outputs": [],
   "source": []
  },
  {
   "cell_type": "markdown",
   "id": "39e90bdf",
   "metadata": {},
   "source": []
  },
  {
   "cell_type": "code",
   "execution_count": null,
   "id": "ab6cc150",
   "metadata": {},
   "outputs": [],
   "source": []
  },
  {
   "cell_type": "markdown",
   "id": "a0cf3c18",
   "metadata": {},
   "source": []
  },
  {
   "cell_type": "code",
   "execution_count": null,
   "id": "fce33b6c",
   "metadata": {},
   "outputs": [],
   "source": []
  },
  {
   "cell_type": "code",
   "execution_count": null,
   "id": "e66962f3",
   "metadata": {},
   "outputs": [],
   "source": []
  },
  {
   "cell_type": "code",
   "execution_count": null,
   "id": "098315ca",
   "metadata": {},
   "outputs": [],
   "source": []
  }
 ],
 "metadata": {
  "kernelspec": {
   "display_name": "Python 3 (ipykernel)",
   "language": "python",
   "name": "python3"
  },
  "language_info": {
   "codemirror_mode": {
    "name": "ipython",
    "version": 3
   },
   "file_extension": ".py",
   "mimetype": "text/x-python",
   "name": "python",
   "nbconvert_exporter": "python",
   "pygments_lexer": "ipython3",
   "version": "3.8.8"
  }
 },
 "nbformat": 4,
 "nbformat_minor": 5
}
