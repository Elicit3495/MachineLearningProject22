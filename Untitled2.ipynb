{
 "cells": [
  {
   "cell_type": "markdown",
   "id": "ed2072c8",
   "metadata": {},
   "source": [
    "### Importing Libraries\n"
   ]
  },
  {
   "cell_type": "code",
   "execution_count": 1,
   "id": "2e18bad5",
   "metadata": {},
   "outputs": [],
   "source": [
    "import numpy as np\n",
    "import keras as kr#to build neural network\n",
    "import matplotlib.pyplot as plt\n",
    "import seaborn as sns\n",
    "import tensorflow as tf\n",
    "import sklearn\n",
    "from mlxtend.plotting import plot_decision_regions\n",
    "from keras import optimizers\n",
    "from sklearn.datasets import fetch_openml\n",
    "from sklearn.preprocessing import StandardScaler\n",
    "from sklearn.model_selection import train_test_split\n",
    "from sklearn.linear_model import LinearRegression, LogisticRegression"
   ]
  },
  {
   "cell_type": "code",
   "execution_count": 2,
   "id": "3b497eca",
   "metadata": {},
   "outputs": [],
   "source": [
    "(X_train, y_train), (X_validation, y_validation) = tf.keras.datasets.fashion_mnist.load_data()"
   ]
  },
  {
   "cell_type": "code",
   "execution_count": 3,
   "id": "cce15cec",
   "metadata": {},
   "outputs": [
    {
     "data": {
      "text/plain": [
       "(0.0, 1.0, 0.0, 1.0)"
      ]
     },
     "execution_count": 3,
     "metadata": {},
     "output_type": "execute_result"
    }
   ],
   "source": [
    "X_flatten = X_train / 255.\n",
    "X_validation = X_validation / 255.\n",
    "\n",
    "X_flatten.min(), X_flatten.max(), X_validation.min(), X_validation.max()"
   ]
  },
  {
   "cell_type": "code",
   "execution_count": 7,
   "id": "3aedf359",
   "metadata": {},
   "outputs": [
    {
     "name": "stdout",
     "output_type": "stream",
     "text": [
      "Epoch 1/20\n",
      "3000/3000 [==============================] - 7s 2ms/step - loss: 0.9552 - accuracy: 0.6691 - val_loss: 0.8609 - val_accuracy: 0.7009\n",
      "Epoch 2/20\n",
      "3000/3000 [==============================] - 7s 2ms/step - loss: 0.7813 - accuracy: 0.7042 - val_loss: 0.7385 - val_accuracy: 0.7349\n",
      "Epoch 3/20\n",
      "3000/3000 [==============================] - 7s 2ms/step - loss: 0.7206 - accuracy: 0.7209 - val_loss: 0.6673 - val_accuracy: 0.7422\n",
      "Epoch 4/20\n",
      "3000/3000 [==============================] - 7s 2ms/step - loss: 0.7093 - accuracy: 0.7301 - val_loss: 0.6522 - val_accuracy: 0.7439\n",
      "Epoch 5/20\n",
      "3000/3000 [==============================] - 7s 2ms/step - loss: 0.7008 - accuracy: 0.7315 - val_loss: 0.6610 - val_accuracy: 0.7466\n",
      "Epoch 6/20\n",
      "3000/3000 [==============================] - 7s 2ms/step - loss: 0.6906 - accuracy: 0.7407 - val_loss: 0.6332 - val_accuracy: 0.7698\n",
      "Epoch 7/20\n",
      "3000/3000 [==============================] - 7s 2ms/step - loss: 0.6723 - accuracy: 0.7530 - val_loss: 0.6252 - val_accuracy: 0.7652\n",
      "Epoch 8/20\n",
      "3000/3000 [==============================] - 7s 2ms/step - loss: 0.6720 - accuracy: 0.7461 - val_loss: 0.6374 - val_accuracy: 0.7712\n",
      "Epoch 9/20\n",
      "3000/3000 [==============================] - 7s 2ms/step - loss: 0.6654 - accuracy: 0.7551 - val_loss: 0.6418 - val_accuracy: 0.7548\n",
      "Epoch 10/20\n",
      "3000/3000 [==============================] - 7s 2ms/step - loss: 0.6775 - accuracy: 0.7480 - val_loss: 0.6521 - val_accuracy: 0.7480\n",
      "Epoch 11/20\n",
      "3000/3000 [==============================] - 7s 2ms/step - loss: 0.6558 - accuracy: 0.7521 - val_loss: 0.6200 - val_accuracy: 0.7723\n",
      "Epoch 12/20\n",
      "3000/3000 [==============================] - 7s 2ms/step - loss: 0.6675 - accuracy: 0.7452 - val_loss: 0.6210 - val_accuracy: 0.7745\n",
      "Epoch 13/20\n",
      "3000/3000 [==============================] - 7s 2ms/step - loss: 0.6462 - accuracy: 0.7585 - val_loss: 0.6092 - val_accuracy: 0.7740\n",
      "Epoch 14/20\n",
      "3000/3000 [==============================] - 7s 2ms/step - loss: 0.6402 - accuracy: 0.7666 - val_loss: 0.6349 - val_accuracy: 0.7642\n",
      "Epoch 15/20\n",
      "3000/3000 [==============================] - 7s 2ms/step - loss: 0.6513 - accuracy: 0.7596 - val_loss: 0.6524 - val_accuracy: 0.7504\n",
      "Epoch 16/20\n",
      "3000/3000 [==============================] - 7s 2ms/step - loss: 0.6419 - accuracy: 0.7610 - val_loss: 0.6155 - val_accuracy: 0.7697\n",
      "Epoch 17/20\n",
      "3000/3000 [==============================] - 7s 2ms/step - loss: 0.6345 - accuracy: 0.7657 - val_loss: 0.5929 - val_accuracy: 0.7766\n",
      "Epoch 18/20\n",
      "3000/3000 [==============================] - 8s 3ms/step - loss: 0.6178 - accuracy: 0.7720 - val_loss: 0.5811 - val_accuracy: 0.7848\n",
      "Epoch 19/20\n",
      "3000/3000 [==============================] - 7s 2ms/step - loss: 0.6167 - accuracy: 0.7772 - val_loss: 0.6194 - val_accuracy: 0.7796\n",
      "Epoch 20/20\n",
      "3000/3000 [==============================] - 7s 2ms/step - loss: 0.6282 - accuracy: 0.7748 - val_loss: 0.6115 - val_accuracy: 0.7828\n"
     ]
    }
   ],
   "source": [
    "ANN_model = tf.keras.Sequential([\n",
    "    tf.keras.layers.Flatten(input_shape=(28,28)),\n",
    "    tf.keras.layers.Dense(units=128, activation=\"sigmoid\"),\n",
    "    tf.keras.layers.Dense(10)\n",
    "#     tf.keras.layers.BatchNormalization(\n",
    "#     axis=-1,\n",
    "#     momentum=0.99,\n",
    "#     epsilon=0.001,\n",
    "#     center=True,\n",
    "#     scale=True,\n",
    "#     beta_initializer=\"zeros\",\n",
    "#     gamma_initializer=\"ones\",\n",
    "#     moving_mean_initializer=\"zeros\",\n",
    "#     moving_variance_initializer=\"ones\",\n",
    "#     beta_regularizer=None,\n",
    "#     gamma_regularizer=None,\n",
    "#     beta_constraint=None,\n",
    "#     gamma_constraint=None,\n",
    "# )\n",
    "])\n",
    "#optimizer = \"adam\", loss = tf.keras.losses.SparseCategoricalCrossentropy(from_logits=True)\n",
    "ANN_model.compile(optimizer=\"adam\",\n",
    "                loss=tf.keras.losses.SparseCategoricalCrossentropy(from_logits=True),\n",
    "             metrics=[\"accuracy\"],)\n",
    "model = ANN_model.fit(X_train, y_train, \n",
    "                      validation_data=(X_validation, y_validation),\n",
    "                      batch_size=20,\n",
    "                      epochs=20)"
   ]
  },
  {
   "cell_type": "code",
   "execution_count": 8,
   "id": "b77036f3",
   "metadata": {},
   "outputs": [
    {
     "data": {
      "text/plain": [
       "{'loss': [0.955154538154602,\n",
       "  0.7812764048576355,\n",
       "  0.7205613255500793,\n",
       "  0.7093397378921509,\n",
       "  0.700770378112793,\n",
       "  0.6905547380447388,\n",
       "  0.6722832918167114,\n",
       "  0.6719993352890015,\n",
       "  0.6654254198074341,\n",
       "  0.6774720549583435,\n",
       "  0.6557679772377014,\n",
       "  0.6674779057502747,\n",
       "  0.646230936050415,\n",
       "  0.6402326822280884,\n",
       "  0.6512559652328491,\n",
       "  0.6418654918670654,\n",
       "  0.6344594359397888,\n",
       "  0.6178323030471802,\n",
       "  0.6167111396789551,\n",
       "  0.6281634569168091],\n",
       " 'accuracy': [0.6690999865531921,\n",
       "  0.7042333483695984,\n",
       "  0.7208999991416931,\n",
       "  0.7300999760627747,\n",
       "  0.7315000295639038,\n",
       "  0.7407000064849854,\n",
       "  0.753000020980835,\n",
       "  0.7460500001907349,\n",
       "  0.7550833225250244,\n",
       "  0.7480000257492065,\n",
       "  0.7521499991416931,\n",
       "  0.7451666593551636,\n",
       "  0.758483350276947,\n",
       "  0.7665666937828064,\n",
       "  0.7595833539962769,\n",
       "  0.7610499858856201,\n",
       "  0.765749990940094,\n",
       "  0.7720000147819519,\n",
       "  0.7772166728973389,\n",
       "  0.7747833132743835],\n",
       " 'val_loss': [0.8609461784362793,\n",
       "  0.7385041117668152,\n",
       "  0.6673126220703125,\n",
       "  0.6521627306938171,\n",
       "  0.6610439419746399,\n",
       "  0.6332148909568787,\n",
       "  0.6252394318580627,\n",
       "  0.6374219059944153,\n",
       "  0.6418262720108032,\n",
       "  0.6521339416503906,\n",
       "  0.6200327277183533,\n",
       "  0.6210382580757141,\n",
       "  0.6092270016670227,\n",
       "  0.6348900198936462,\n",
       "  0.6524426341056824,\n",
       "  0.6155402660369873,\n",
       "  0.5928691029548645,\n",
       "  0.5810996294021606,\n",
       "  0.619438111782074,\n",
       "  0.6115135550498962],\n",
       " 'val_accuracy': [0.7009000182151794,\n",
       "  0.7348999977111816,\n",
       "  0.7422000169754028,\n",
       "  0.7439000010490417,\n",
       "  0.7465999722480774,\n",
       "  0.7698000073432922,\n",
       "  0.7652000188827515,\n",
       "  0.7712000012397766,\n",
       "  0.754800021648407,\n",
       "  0.7480000257492065,\n",
       "  0.7723000049591064,\n",
       "  0.7745000123977661,\n",
       "  0.7739999890327454,\n",
       "  0.76419997215271,\n",
       "  0.7504000067710876,\n",
       "  0.7696999907493591,\n",
       "  0.7766000032424927,\n",
       "  0.7847999930381775,\n",
       "  0.7796000242233276,\n",
       "  0.782800018787384]}"
      ]
     },
     "execution_count": 8,
     "metadata": {},
     "output_type": "execute_result"
    }
   ],
   "source": [
    "model.history"
   ]
  },
  {
   "cell_type": "markdown",
   "id": "31af87b6",
   "metadata": {},
   "source": []
  },
  {
   "cell_type": "code",
   "execution_count": 6,
   "id": "66d3820e",
   "metadata": {},
   "outputs": [
    {
     "data": {
      "text/plain": [
       "<matplotlib.legend.Legend at 0x283e18ba340>"
      ]
     },
     "execution_count": 6,
     "metadata": {},
     "output_type": "execute_result"
    },
    {
     "data": {
      "image/png": "[encoded data removed]",
      "text/plain": [
       "<Figure size 1400x600 with 2 Axes>"
      ]
     },
     "metadata": {},
     "output_type": "display_data"
    }
   ],
   "source": [
    "history_dict = model.history\n",
    "loss_values = history_dict['loss']\n",
    "val_loss_values = history_dict['val_loss']\n",
    "accuracy = history_dict['accuracy']\n",
    "val_accuracy = history_dict['val_accuracy']\n",
    " \n",
    "epochs = range(1, len(loss_values) + 1)\n",
    "fig, ax = plt.subplots(1, 2, figsize=(14, 6))\n",
    "#\n",
    "# Plot the model accuracy vs Epochs\n",
    "#\n",
    "ax[0].plot(epochs, accuracy, 'bo', label='Training accuracy')\n",
    "ax[0].plot(epochs, val_accuracy, 'b', label='Validation accuracy')\n",
    "ax[0].set_title('Training & Validation Accuracy', fontsize=16)\n",
    "ax[0].set_xlabel('Epochs', fontsize=16)\n",
    "ax[0].set_ylabel('Accuracy', fontsize=16)\n",
    "ax[0].legend()\n",
    "#\n",
    "# Plot the loss vs Epochs\n",
    "#\n",
    "ax[1].plot(epochs, loss_values, 'bo', label='Training loss')\n",
    "ax[1].plot(epochs, val_loss_values, 'b', label='Validation loss')\n",
    "ax[1].set_title('Training & Validation Loss', fontsize=16)\n",
    "ax[1].set_xlabel('Epochs', fontsize=16)\n",
    "ax[1].set_ylabel('Loss', fontsize=16)\n",
    "ax[1].legend()\n",
    "#https://keras.io/api/layers/activations/#sigmoid-function list of activations\n",
    "#https://keras.io/api/layers/normalization_layers/batch_normalization/\n",
    "#softmax is poor"
   ]
  },
  {
   "cell_type": "code",
   "execution_count": 16,
   "id": "e2e453e4",
   "metadata": {},
   "outputs": [
    {
     "data": {
      "text/plain": [
       "(60000,)"
      ]
     },
     "execution_count": 16,
     "metadata": {},
     "output_type": "execute_result"
    }
   ],
   "source": [
    "y_train.shape"
   ]
  },
  {
   "cell_type": "code",
   "execution_count": 10,
   "id": "f9237c2e",
   "metadata": {},
   "outputs": [
    {
     "ename": "ValueError",
     "evalue": "X must be a 2D array. Found (60000, 28, 28)",
     "output_type": "error",
     "traceback": [
      "\u001b[1;31m---------------------------------------------------------------------------\u001b[0m",
      "\u001b[1;31mValueError\u001b[0m                                Traceback (most recent call last)",
      "Cell \u001b[1;32mIn [10], line 1\u001b[0m\n\u001b[1;32m----> 1\u001b[0m \u001b[43mplot_decision_regions\u001b[49m\u001b[43m(\u001b[49m\u001b[43mX_train\u001b[49m\u001b[43m,\u001b[49m\u001b[43m \u001b[49m\u001b[43my_train\u001b[49m\u001b[43m,\u001b[49m\u001b[43m \u001b[49m\u001b[43mclf\u001b[49m\u001b[38;5;241;43m=\u001b[39;49m\u001b[43mmodel\u001b[49m\u001b[43m)\u001b[49m\n",
      "File \u001b[1;32m~\\anaconda3\\lib\\site-packages\\mlxtend\\plotting\\decision_regions.py:148\u001b[0m, in \u001b[0;36mplot_decision_regions\u001b[1;34m(X, y, clf, feature_index, filler_feature_values, filler_feature_ranges, ax, X_highlight, zoom_factor, legend, hide_spines, markers, colors, scatter_kwargs, contourf_kwargs, contour_kwargs, scatter_highlight_kwargs)\u001b[0m\n\u001b[0;32m     44\u001b[0m \u001b[38;5;28;01mdef\u001b[39;00m \u001b[38;5;21mplot_decision_regions\u001b[39m(\n\u001b[0;32m     45\u001b[0m     X,\n\u001b[0;32m     46\u001b[0m     y,\n\u001b[1;32m   (...)\u001b[0m\n\u001b[0;32m     65\u001b[0m     scatter_highlight_kwargs\u001b[38;5;241m=\u001b[39m\u001b[38;5;28;01mNone\u001b[39;00m,\n\u001b[0;32m     66\u001b[0m ):\n\u001b[0;32m     67\u001b[0m     \u001b[38;5;124;03m\"\"\"Plot decision regions of a classifier.\u001b[39;00m\n\u001b[0;32m     68\u001b[0m \n\u001b[0;32m     69\u001b[0m \u001b[38;5;124;03m    Please note that this functions assumes that class labels are\u001b[39;00m\n\u001b[1;32m   (...)\u001b[0m\n\u001b[0;32m    145\u001b[0m \n\u001b[0;32m    146\u001b[0m \u001b[38;5;124;03m    \"\"\"\u001b[39;00m\n\u001b[1;32m--> 148\u001b[0m     \u001b[43mcheck_Xy\u001b[49m\u001b[43m(\u001b[49m\u001b[43mX\u001b[49m\u001b[43m,\u001b[49m\u001b[43m \u001b[49m\u001b[43my\u001b[49m\u001b[43m,\u001b[49m\u001b[43m \u001b[49m\u001b[43my_int\u001b[49m\u001b[38;5;241;43m=\u001b[39;49m\u001b[38;5;28;43;01mTrue\u001b[39;49;00m\u001b[43m)\u001b[49m  \u001b[38;5;66;03m# Validate X and y arrays\u001b[39;00m\n\u001b[0;32m    149\u001b[0m     dim \u001b[38;5;241m=\u001b[39m X\u001b[38;5;241m.\u001b[39mshape[\u001b[38;5;241m1\u001b[39m]\n\u001b[0;32m    151\u001b[0m     \u001b[38;5;28;01mif\u001b[39;00m ax \u001b[38;5;129;01mis\u001b[39;00m \u001b[38;5;28;01mNone\u001b[39;00m:\n",
      "File \u001b[1;32m~\\anaconda3\\lib\\site-packages\\mlxtend\\utils\\checking.py:31\u001b[0m, in \u001b[0;36mcheck_Xy\u001b[1;34m(X, y, y_int)\u001b[0m\n\u001b[0;32m     29\u001b[0m \u001b[38;5;66;03m# check dim\u001b[39;00m\n\u001b[0;32m     30\u001b[0m \u001b[38;5;28;01mif\u001b[39;00m \u001b[38;5;28mlen\u001b[39m(X\u001b[38;5;241m.\u001b[39mshape) \u001b[38;5;241m!=\u001b[39m \u001b[38;5;241m2\u001b[39m:\n\u001b[1;32m---> 31\u001b[0m     \u001b[38;5;28;01mraise\u001b[39;00m \u001b[38;5;167;01mValueError\u001b[39;00m(\u001b[38;5;124m\"\u001b[39m\u001b[38;5;124mX must be a 2D array. Found \u001b[39m\u001b[38;5;132;01m%s\u001b[39;00m\u001b[38;5;124m\"\u001b[39m \u001b[38;5;241m%\u001b[39m \u001b[38;5;28mstr\u001b[39m(X\u001b[38;5;241m.\u001b[39mshape))\n\u001b[0;32m     32\u001b[0m \u001b[38;5;28;01mif\u001b[39;00m \u001b[38;5;28mlen\u001b[39m(y\u001b[38;5;241m.\u001b[39mshape) \u001b[38;5;241m>\u001b[39m \u001b[38;5;241m1\u001b[39m:\n\u001b[0;32m     33\u001b[0m     \u001b[38;5;28;01mraise\u001b[39;00m \u001b[38;5;167;01mValueError\u001b[39;00m(\u001b[38;5;124m\"\u001b[39m\u001b[38;5;124my must be a 1D array. Found \u001b[39m\u001b[38;5;132;01m%s\u001b[39;00m\u001b[38;5;124m\"\u001b[39m \u001b[38;5;241m%\u001b[39m \u001b[38;5;28mstr\u001b[39m(y\u001b[38;5;241m.\u001b[39mshape))\n",
      "\u001b[1;31mValueError\u001b[0m: X must be a 2D array. Found (60000, 28, 28)"
     ]
    }
   ],
   "source": [
    "plot_decision_regions(X_train, y_train, clf=model)"
   ]
  },
  {
   "cell_type": "code",
   "execution_count": null,
   "id": "31eac91c",
   "metadata": {},
   "outputs": [],
   "source": []
  },
  {
   "cell_type": "code",
   "execution_count": null,
   "id": "d27eaeb0",
   "metadata": {},
   "outputs": [],
   "source": []
  },
  {
   "cell_type": "code",
   "execution_count": null,
   "id": "954073bd",
   "metadata": {},
   "outputs": [],
   "source": []
  },
  {
   "cell_type": "code",
   "execution_count": null,
   "id": "8fdd45f9",
   "metadata": {},
   "outputs": [],
   "source": []
  },
  {
   "cell_type": "code",
   "execution_count": null,
   "id": "19789222",
   "metadata": {},
   "outputs": [],
   "source": []
  },
  {
   "cell_type": "code",
   "execution_count": null,
   "id": "48947a39",
   "metadata": {},
   "outputs": [],
   "source": []
  },
  {
   "cell_type": "code",
   "execution_count": null,
   "id": "8dd2e928",
   "metadata": {},
   "outputs": [],
   "source": []
  },
  {
   "cell_type": "code",
   "execution_count": null,
   "id": "e355d07c",
   "metadata": {},
   "outputs": [],
   "source": []
  },
  {
   "cell_type": "code",
   "execution_count": null,
   "id": "fe711ffb",
   "metadata": {},
   "outputs": [],
   "source": []
  },
  {
   "cell_type": "code",
   "execution_count": null,
   "id": "52f1e711",
   "metadata": {},
   "outputs": [],
   "source": []
  },
  {
   "cell_type": "markdown",
   "id": "23dfc05b",
   "metadata": {},
   "source": [
    "### Standardising our images"
   ]
  },
  {
   "cell_type": "code",
   "execution_count": null,
   "id": "f159d826",
   "metadata": {},
   "outputs": [],
   "source": []
  },
  {
   "cell_type": "code",
   "execution_count": null,
   "id": "47d1b17a",
   "metadata": {},
   "outputs": [],
   "source": []
  },
  {
   "cell_type": "code",
   "execution_count": null,
   "id": "57ebb52d",
   "metadata": {},
   "outputs": [],
   "source": []
  },
  {
   "cell_type": "markdown",
   "id": "39e90bdf",
   "metadata": {},
   "source": []
  },
  {
   "cell_type": "code",
   "execution_count": null,
   "id": "ab6cc150",
   "metadata": {},
   "outputs": [],
   "source": []
  },
  {
   "cell_type": "markdown",
   "id": "a0cf3c18",
   "metadata": {},
   "source": []
  },
  {
   "cell_type": "code",
   "execution_count": null,
   "id": "fce33b6c",
   "metadata": {},
   "outputs": [],
   "source": []
  },
  {
   "cell_type": "code",
   "execution_count": null,
   "id": "e66962f3",
   "metadata": {},
   "outputs": [],
   "source": []
  },
  {
   "cell_type": "code",
   "execution_count": null,
   "id": "098315ca",
   "metadata": {},
   "outputs": [],
   "source": []
  }
 ],
 "metadata": {
  "kernelspec": {
   "display_name": "Python 3 (ipykernel)",
   "language": "python",
   "name": "python3"
  },
  "language_info": {
   "codemirror_mode": {
    "name": "ipython",
    "version": 3
   },
   "file_extension": ".py",
   "mimetype": "text/x-python",
   "name": "python",
   "nbconvert_exporter": "python",
   "pygments_lexer": "ipython3",
   "version": "3.8.8"
  }
 },
 "nbformat": 4,
 "nbformat_minor": 5
}
