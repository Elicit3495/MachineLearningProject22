{
 "cells": [
  {
   "cell_type": "markdown",
   "id": "ed2072c8",
   "metadata": {},
   "source": [
    "### Importing Libraries\n"
   ]
  },
  {
   "cell_type": "code",
   "execution_count": 1,
   "id": "2e18bad5",
   "metadata": {},
   "outputs": [],
   "source": [
    "import numpy as np\n",
    "import keras as kr#to build neural network\n",
    "import matplotlib.pyplot as plt\n",
    "import seaborn as sns\n",
    "import tensorflow as tf\n",
    "import sklearn\n",
    "from keras import optimizers\n",
    "from sklearn.datasets import fetch_openml\n",
    "from sklearn.preprocessing import StandardScaler\n",
    "from sklearn.model_selection import train_test_split\n",
    "from sklearn.linear_model import LinearRegression, LogisticRegression"
   ]
  },
  {
   "cell_type": "code",
   "execution_count": 87,
   "id": "3b497eca",
   "metadata": {},
   "outputs": [],
   "source": [
    "(X_train, y_train), (X_validation, y_validation) = tf.keras.datasets.fashion_mnist.load_data()"
   ]
  },
  {
   "cell_type": "code",
   "execution_count": 88,
   "id": "cce15cec",
   "metadata": {},
   "outputs": [
    {
     "data": {
      "text/plain": [
       "(0.0, 1.0, 0, 255)"
      ]
     },
     "execution_count": 88,
     "metadata": {},
     "output_type": "execute_result"
    }
   ],
   "source": [
    "X_flatten = X_train / 255.\n",
    "X_validation = X_validation / 255.\n",
    "\n",
    "X_flatten.min(), X_flatten.max(), X_test.min(), X_test.max()"
   ]
  },
  {
   "cell_type": "code",
   "execution_count": 114,
   "id": "3aedf359",
   "metadata": {},
   "outputs": [
    {
     "name": "stdout",
     "output_type": "stream",
     "text": [
      "Epoch 1/20\n",
      "353/353 [==============================] - 3s 7ms/step - loss: 0.8574 - accuracy: 0.7236 - val_loss: 1.0972 - val_accuracy: 0.6595\n",
      "Epoch 2/20\n",
      "353/353 [==============================] - 2s 6ms/step - loss: 0.6560 - accuracy: 0.7727 - val_loss: 0.8864 - val_accuracy: 0.6868\n",
      "Epoch 3/20\n",
      "353/353 [==============================] - 2s 6ms/step - loss: 0.6167 - accuracy: 0.7832 - val_loss: 0.7541 - val_accuracy: 0.7546\n",
      "Epoch 4/20\n",
      "353/353 [==============================] - 2s 6ms/step - loss: 0.5915 - accuracy: 0.7898 - val_loss: 0.7000 - val_accuracy: 0.7770\n",
      "Epoch 5/20\n",
      "353/353 [==============================] - 2s 6ms/step - loss: 0.5828 - accuracy: 0.7949 - val_loss: 0.6952 - val_accuracy: 0.7669\n",
      "Epoch 6/20\n",
      "353/353 [==============================] - 2s 6ms/step - loss: 0.5911 - accuracy: 0.7886 - val_loss: 0.6454 - val_accuracy: 0.7740\n",
      "Epoch 7/20\n",
      "353/353 [==============================] - 2s 6ms/step - loss: 0.5923 - accuracy: 0.7870 - val_loss: 0.6415 - val_accuracy: 0.7956\n",
      "Epoch 8/20\n",
      "353/353 [==============================] - 2s 6ms/step - loss: 0.5946 - accuracy: 0.7875 - val_loss: 0.6457 - val_accuracy: 0.7844\n",
      "Epoch 9/20\n",
      "353/353 [==============================] - 2s 6ms/step - loss: 0.6094 - accuracy: 0.7830 - val_loss: 0.6276 - val_accuracy: 0.7914\n",
      "Epoch 10/20\n",
      "353/353 [==============================] - 2s 6ms/step - loss: 0.6090 - accuracy: 0.7850 - val_loss: 0.6345 - val_accuracy: 0.7877\n",
      "Epoch 11/20\n",
      "353/353 [==============================] - 2s 6ms/step - loss: 0.5893 - accuracy: 0.7910 - val_loss: 0.6005 - val_accuracy: 0.7940\n",
      "Epoch 12/20\n",
      "353/353 [==============================] - 2s 6ms/step - loss: 0.5841 - accuracy: 0.7940 - val_loss: 0.5777 - val_accuracy: 0.8039\n",
      "Epoch 13/20\n",
      "353/353 [==============================] - 2s 6ms/step - loss: 0.5759 - accuracy: 0.7907 - val_loss: 0.5673 - val_accuracy: 0.8054\n",
      "Epoch 14/20\n",
      "353/353 [==============================] - 2s 6ms/step - loss: 0.5671 - accuracy: 0.7963 - val_loss: 0.5883 - val_accuracy: 0.7875\n",
      "Epoch 15/20\n",
      "353/353 [==============================] - 2s 6ms/step - loss: 0.5770 - accuracy: 0.7888 - val_loss: 0.5959 - val_accuracy: 0.7905\n",
      "Epoch 16/20\n",
      "353/353 [==============================] - 2s 6ms/step - loss: 0.5688 - accuracy: 0.7922 - val_loss: 0.5795 - val_accuracy: 0.7982\n",
      "Epoch 17/20\n",
      "353/353 [==============================] - 2s 6ms/step - loss: 0.5642 - accuracy: 0.7984 - val_loss: 0.5688 - val_accuracy: 0.8098\n",
      "Epoch 18/20\n",
      "353/353 [==============================] - 2s 6ms/step - loss: 0.5617 - accuracy: 0.7986 - val_loss: 0.5775 - val_accuracy: 0.8009\n",
      "Epoch 19/20\n",
      "353/353 [==============================] - 2s 6ms/step - loss: 0.5568 - accuracy: 0.7957 - val_loss: 0.5529 - val_accuracy: 0.8035\n",
      "Epoch 20/20\n",
      "353/353 [==============================] - 2s 6ms/step - loss: 0.5513 - accuracy: 0.8002 - val_loss: 0.5343 - val_accuracy: 0.8120\n"
     ]
    }
   ],
   "source": [
    "ANN_model = tf.keras.Sequential([\n",
    "    tf.keras.layers.Flatten(input_shape=(28,28)),\n",
    "    tf.keras.layers.Dense(units=128, activation=\"sigmoid\"),\n",
    "    tf.keras.layers.Dense(10)\n",
    "#     tf.keras.layers.BatchNormalization(\n",
    "#     axis=-1,\n",
    "#     momentum=0.99,\n",
    "#     epsilon=0.001,\n",
    "#     center=True,\n",
    "#     scale=True,\n",
    "#     beta_initializer=\"zeros\",\n",
    "#     gamma_initializer=\"ones\",\n",
    "#     moving_mean_initializer=\"zeros\",\n",
    "#     moving_variance_initializer=\"ones\",\n",
    "#     beta_regularizer=None,\n",
    "#     gamma_regularizer=None,\n",
    "#     beta_constraint=None,\n",
    "#     gamma_constraint=None,\n",
    "# )\n",
    "])\n",
    "#optimizer = \"adam\", loss = tf.keras.losses.SparseCategoricalCrossentropy(from_logits=True)\n",
    "ANN_model.compile(optimizer=\"adam\",\n",
    "                loss=tf.keras.losses.SparseCategoricalCrossentropy(from_logits=True),\n",
    "             metrics=[\"accuracy\"],)\n",
    "model = ANN_model.fit(X_train, y_train, \n",
    "                        validation_data=(X_validation, y_validation),\n",
    "                        batch_size=170,\n",
    "                        epochs=20)"
   ]
  },
  {
   "cell_type": "code",
   "execution_count": 127,
   "id": "b77036f3",
   "metadata": {},
   "outputs": [
    {
     "data": {
      "text/plain": [
       "{'loss': [0.8573527336120605,\n",
       "  0.6560071110725403,\n",
       "  0.6167373061180115,\n",
       "  0.591545820236206,\n",
       "  0.5827557444572449,\n",
       "  0.5910544395446777,\n",
       "  0.5922750234603882,\n",
       "  0.5945529341697693,\n",
       "  0.6093631386756897,\n",
       "  0.6090223789215088,\n",
       "  0.5893228650093079,\n",
       "  0.584084689617157,\n",
       "  0.5759226679801941,\n",
       "  0.5671063661575317,\n",
       "  0.5770301818847656,\n",
       "  0.5687741041183472,\n",
       "  0.5642079710960388,\n",
       "  0.5617105960845947,\n",
       "  0.5568352341651917,\n",
       "  0.5513396859169006],\n",
       " 'accuracy': [0.7236499786376953,\n",
       "  0.7726666927337646,\n",
       "  0.7832000255584717,\n",
       "  0.7898333072662354,\n",
       "  0.7949333190917969,\n",
       "  0.7886499762535095,\n",
       "  0.7870166897773743,\n",
       "  0.7874833345413208,\n",
       "  0.7829999923706055,\n",
       "  0.7849833369255066,\n",
       "  0.7910333275794983,\n",
       "  0.7939833402633667,\n",
       "  0.7907333374023438,\n",
       "  0.7962999939918518,\n",
       "  0.7888000011444092,\n",
       "  0.7922166585922241,\n",
       "  0.7984499931335449,\n",
       "  0.7985833287239075,\n",
       "  0.7957000136375427,\n",
       "  0.8002166748046875],\n",
       " 'val_loss': [1.0971955060958862,\n",
       "  0.8864195346832275,\n",
       "  0.7541171312332153,\n",
       "  0.7000301480293274,\n",
       "  0.6951560974121094,\n",
       "  0.6454488039016724,\n",
       "  0.6415250301361084,\n",
       "  0.645729660987854,\n",
       "  0.6275986433029175,\n",
       "  0.6345029473304749,\n",
       "  0.6004909873008728,\n",
       "  0.5776782035827637,\n",
       "  0.5673118233680725,\n",
       "  0.588285505771637,\n",
       "  0.5959330797195435,\n",
       "  0.5794824361801147,\n",
       "  0.5688380002975464,\n",
       "  0.5774815678596497,\n",
       "  0.5528635382652283,\n",
       "  0.534331738948822],\n",
       " 'val_accuracy': [0.659500002861023,\n",
       "  0.6868000030517578,\n",
       "  0.7545999884605408,\n",
       "  0.7770000100135803,\n",
       "  0.7669000029563904,\n",
       "  0.7739999890327454,\n",
       "  0.7955999970436096,\n",
       "  0.7843999862670898,\n",
       "  0.7914000153541565,\n",
       "  0.7876999974250793,\n",
       "  0.7940000295639038,\n",
       "  0.8039000034332275,\n",
       "  0.805400013923645,\n",
       "  0.7875000238418579,\n",
       "  0.7904999852180481,\n",
       "  0.7982000112533569,\n",
       "  0.8098000288009644,\n",
       "  0.8008999824523926,\n",
       "  0.8034999966621399,\n",
       "  0.8119999766349792]}"
      ]
     },
     "execution_count": 127,
     "metadata": {},
     "output_type": "execute_result"
    }
   ],
   "source": [
    "model.history"
   ]
  },
  {
   "cell_type": "markdown",
   "id": "31af87b6",
   "metadata": {},
   "source": []
  },
  {
   "cell_type": "code",
   "execution_count": 115,
   "id": "66d3820e",
   "metadata": {},
   "outputs": [
    {
     "data": {
      "text/plain": [
       "<matplotlib.legend.Legend at 0x29f185cd340>"
      ]
     },
     "execution_count": 115,
     "metadata": {},
     "output_type": "execute_result"
    },
    {
     "data": {
      "image/png": "[encoded data removed]",
      "text/plain": [
       "<Figure size 1400x600 with 2 Axes>"
      ]
     },
     "metadata": {},
     "output_type": "display_data"
    }
   ],
   "source": [
    "history_dict = model.history\n",
    "loss_values = history_dict['loss']\n",
    "val_loss_values = history_dict['val_loss']\n",
    "accuracy = history_dict['accuracy']\n",
    "val_accuracy = history_dict['val_accuracy']\n",
    " \n",
    "epochs = range(1, len(loss_values) + 1)\n",
    "fig, ax = plt.subplots(1, 2, figsize=(14, 6))\n",
    "#\n",
    "# Plot the model accuracy vs Epochs\n",
    "#\n",
    "ax[0].plot(epochs, accuracy, 'bo', label='Training accuracy')\n",
    "ax[0].plot(epochs, val_accuracy, 'b', label='Validation accuracy')\n",
    "ax[0].set_title('Training & Validation Accuracy', fontsize=16)\n",
    "ax[0].set_xlabel('Epochs', fontsize=16)\n",
    "ax[0].set_ylabel('Accuracy', fontsize=16)\n",
    "ax[0].legend()\n",
    "#\n",
    "# Plot the loss vs Epochs\n",
    "#\n",
    "ax[1].plot(epochs, loss_values, 'bo', label='Training loss')\n",
    "ax[1].plot(epochs, val_loss_values, 'b', label='Validation loss')\n",
    "ax[1].set_title('Training & Validation Loss', fontsize=16)\n",
    "ax[1].set_xlabel('Epochs', fontsize=16)\n",
    "ax[1].set_ylabel('Loss', fontsize=16)\n",
    "ax[1].legend()\n",
    "#https://keras.io/api/layers/activations/#sigmoid-function list of activations\n",
    "#https://keras.io/api/layers/normalization_layers/batch_normalization/\n",
    "#softmax is poor"
   ]
  },
  {
   "cell_type": "code",
   "execution_count": null,
   "id": "f9237c2e",
   "metadata": {},
   "outputs": [],
   "source": []
  },
  {
   "cell_type": "markdown",
   "id": "0b2318f2",
   "metadata": {},
   "source": [
    "X_test.shape\n",
    "y_test = y_train.reshape(-1,1)\n",
    "y_test.shape"
   ]
  },
  {
   "cell_type": "code",
   "execution_count": 126,
   "id": "31eac91c",
   "metadata": {},
   "outputs": [
    {
     "ename": "TypeError",
     "evalue": "Cannot construct a dtype from an array",
     "output_type": "error",
     "traceback": [
      "\u001b[1;31m---------------------------------------------------------------------------\u001b[0m",
      "\u001b[1;31mTypeError\u001b[0m                                 Traceback (most recent call last)",
      "Cell \u001b[1;32mIn [126], line 1\u001b[0m\n\u001b[1;32m----> 1\u001b[0m \u001b[43mplot_model_out\u001b[49m\u001b[43m(\u001b[49m\u001b[43mX_test\u001b[49m\u001b[43m,\u001b[49m\u001b[43m \u001b[49m\u001b[43my_test\u001b[49m\u001b[43m,\u001b[49m\u001b[43m \u001b[49m\u001b[43mmodel\u001b[49m\u001b[43m)\u001b[49m\n",
      "Cell \u001b[1;32mIn [124], line 6\u001b[0m, in \u001b[0;36mplot_model_out\u001b[1;34m(x, y, model)\u001b[0m\n\u001b[0;32m      1\u001b[0m \u001b[38;5;28;01mdef\u001b[39;00m \u001b[38;5;21mplot_model_out\u001b[39m(x,y,model):\n\u001b[0;32m      2\u001b[0m   \u001b[38;5;124;03m\"\"\"\u001b[39;00m\n\u001b[0;32m      3\u001b[0m \u001b[38;5;124;03m  x,y: 2D MeshGrid input\u001b[39;00m\n\u001b[0;32m      4\u001b[0m \u001b[38;5;124;03m  model: Keras Model API Object\u001b[39;00m\n\u001b[0;32m      5\u001b[0m \u001b[38;5;124;03m  \"\"\"\u001b[39;00m\n\u001b[1;32m----> 6\u001b[0m   grid \u001b[38;5;241m=\u001b[39m \u001b[43mnp\u001b[49m\u001b[38;5;241;43m.\u001b[39;49m\u001b[43marray\u001b[49m\u001b[43m(\u001b[49m\u001b[43mx\u001b[49m\u001b[43m,\u001b[49m\u001b[43my\u001b[49m\u001b[43m)\u001b[49m\n\u001b[0;32m      7\u001b[0m   grid \u001b[38;5;241m=\u001b[39m grid\u001b[38;5;241m.\u001b[39mT\u001b[38;5;241m.\u001b[39mreshape(\u001b[38;5;241m-\u001b[39m\u001b[38;5;241m1\u001b[39m,\u001b[38;5;241m2\u001b[39m)\n\u001b[0;32m      8\u001b[0m   outs \u001b[38;5;241m=\u001b[39m model\u001b[38;5;241m.\u001b[39mpredict(grid)\n",
      "\u001b[1;31mTypeError\u001b[0m: Cannot construct a dtype from an array"
     ]
    }
   ],
   "source": [
    "plot_model_out(X_test, y_test, model)"
   ]
  },
  {
   "cell_type": "code",
   "execution_count": 22,
   "id": "d27eaeb0",
   "metadata": {},
   "outputs": [],
   "source": [
    "from sklearn import svm\n",
    "from sklearn.svm import SVC"
   ]
  },
  {
   "cell_type": "code",
   "execution_count": 16,
   "id": "954073bd",
   "metadata": {},
   "outputs": [],
   "source": [
    "X_mnist, y_mnist = fetch_openml(name='Fashion-MNIST',return_X_y=True, as_frame=False)"
   ]
  },
  {
   "cell_type": "code",
   "execution_count": 39,
   "id": "8fdd45f9",
   "metadata": {},
   "outputs": [],
   "source": [
    "X_train, y_train, X_test, y_test = train_test_split(X_mnist, y_mnist, test_size=0.3)"
   ]
  },
  {
   "cell_type": "code",
   "execution_count": 43,
   "id": "19789222",
   "metadata": {},
   "outputs": [
    {
     "data": {
      "text/plain": [
       "(16464000, 1)"
      ]
     },
     "execution_count": 43,
     "metadata": {},
     "output_type": "execute_result"
    }
   ],
   "source": [
    "test_1 = y_train.reshape(y_train.size, -1)\n",
    "test_1.shape"
   ]
  },
  {
   "cell_type": "code",
   "execution_count": 35,
   "id": "48947a39",
   "metadata": {},
   "outputs": [
    {
     "ename": "ValueError",
     "evalue": "y should be a 1d array, got an array of shape (49000, 784) instead.",
     "output_type": "error",
     "traceback": [
      "\u001b[1;31m---------------------------------------------------------------------------\u001b[0m",
      "\u001b[1;31mValueError\u001b[0m                                Traceback (most recent call last)",
      "Cell \u001b[1;32mIn [35], line 3\u001b[0m\n\u001b[0;32m      1\u001b[0m svm_clf \u001b[38;5;241m=\u001b[39m SVC(kernel\u001b[38;5;241m=\u001b[39m\u001b[38;5;124m'\u001b[39m\u001b[38;5;124mlinear\u001b[39m\u001b[38;5;124m'\u001b[39m)\n\u001b[0;32m      2\u001b[0m X_train\u001b[38;5;241m.\u001b[39mshape\n\u001b[1;32m----> 3\u001b[0m \u001b[43msvm_clf\u001b[49m\u001b[38;5;241;43m.\u001b[39;49m\u001b[43mfit\u001b[49m\u001b[43m(\u001b[49m\u001b[43mX_train\u001b[49m\u001b[43m,\u001b[49m\u001b[43m \u001b[49m\u001b[43mX_train\u001b[49m\u001b[43m)\u001b[49m\n",
      "File \u001b[1;32m~\\anaconda3\\lib\\site-packages\\sklearn\\svm\\_base.py:173\u001b[0m, in \u001b[0;36mBaseLibSVM.fit\u001b[1;34m(self, X, y, sample_weight)\u001b[0m\n\u001b[0;32m    171\u001b[0m     check_consistent_length(X, y)\n\u001b[0;32m    172\u001b[0m \u001b[38;5;28;01melse\u001b[39;00m:\n\u001b[1;32m--> 173\u001b[0m     X, y \u001b[38;5;241m=\u001b[39m \u001b[38;5;28;43mself\u001b[39;49m\u001b[38;5;241;43m.\u001b[39;49m\u001b[43m_validate_data\u001b[49m\u001b[43m(\u001b[49m\n\u001b[0;32m    174\u001b[0m \u001b[43m        \u001b[49m\u001b[43mX\u001b[49m\u001b[43m,\u001b[49m\n\u001b[0;32m    175\u001b[0m \u001b[43m        \u001b[49m\u001b[43my\u001b[49m\u001b[43m,\u001b[49m\n\u001b[0;32m    176\u001b[0m \u001b[43m        \u001b[49m\u001b[43mdtype\u001b[49m\u001b[38;5;241;43m=\u001b[39;49m\u001b[43mnp\u001b[49m\u001b[38;5;241;43m.\u001b[39;49m\u001b[43mfloat64\u001b[49m\u001b[43m,\u001b[49m\n\u001b[0;32m    177\u001b[0m \u001b[43m        \u001b[49m\u001b[43morder\u001b[49m\u001b[38;5;241;43m=\u001b[39;49m\u001b[38;5;124;43m\"\u001b[39;49m\u001b[38;5;124;43mC\u001b[39;49m\u001b[38;5;124;43m\"\u001b[39;49m\u001b[43m,\u001b[49m\n\u001b[0;32m    178\u001b[0m \u001b[43m        \u001b[49m\u001b[43maccept_sparse\u001b[49m\u001b[38;5;241;43m=\u001b[39;49m\u001b[38;5;124;43m\"\u001b[39;49m\u001b[38;5;124;43mcsr\u001b[39;49m\u001b[38;5;124;43m\"\u001b[39;49m\u001b[43m,\u001b[49m\n\u001b[0;32m    179\u001b[0m \u001b[43m        \u001b[49m\u001b[43maccept_large_sparse\u001b[49m\u001b[38;5;241;43m=\u001b[39;49m\u001b[38;5;28;43;01mFalse\u001b[39;49;00m\u001b[43m,\u001b[49m\n\u001b[0;32m    180\u001b[0m \u001b[43m    \u001b[49m\u001b[43m)\u001b[49m\n\u001b[0;32m    182\u001b[0m y \u001b[38;5;241m=\u001b[39m \u001b[38;5;28mself\u001b[39m\u001b[38;5;241m.\u001b[39m_validate_targets(y)\n\u001b[0;32m    184\u001b[0m sample_weight \u001b[38;5;241m=\u001b[39m np\u001b[38;5;241m.\u001b[39masarray(\n\u001b[0;32m    185\u001b[0m     [] \u001b[38;5;28;01mif\u001b[39;00m sample_weight \u001b[38;5;129;01mis\u001b[39;00m \u001b[38;5;28;01mNone\u001b[39;00m \u001b[38;5;28;01melse\u001b[39;00m sample_weight, dtype\u001b[38;5;241m=\u001b[39mnp\u001b[38;5;241m.\u001b[39mfloat64\n\u001b[0;32m    186\u001b[0m )\n",
      "File \u001b[1;32m~\\anaconda3\\lib\\site-packages\\sklearn\\base.py:596\u001b[0m, in \u001b[0;36mBaseEstimator._validate_data\u001b[1;34m(self, X, y, reset, validate_separately, **check_params)\u001b[0m\n\u001b[0;32m    594\u001b[0m         y \u001b[38;5;241m=\u001b[39m check_array(y, input_name\u001b[38;5;241m=\u001b[39m\u001b[38;5;124m\"\u001b[39m\u001b[38;5;124my\u001b[39m\u001b[38;5;124m\"\u001b[39m, \u001b[38;5;241m*\u001b[39m\u001b[38;5;241m*\u001b[39mcheck_y_params)\n\u001b[0;32m    595\u001b[0m     \u001b[38;5;28;01melse\u001b[39;00m:\n\u001b[1;32m--> 596\u001b[0m         X, y \u001b[38;5;241m=\u001b[39m \u001b[43mcheck_X_y\u001b[49m\u001b[43m(\u001b[49m\u001b[43mX\u001b[49m\u001b[43m,\u001b[49m\u001b[43m \u001b[49m\u001b[43my\u001b[49m\u001b[43m,\u001b[49m\u001b[43m \u001b[49m\u001b[38;5;241;43m*\u001b[39;49m\u001b[38;5;241;43m*\u001b[39;49m\u001b[43mcheck_params\u001b[49m\u001b[43m)\u001b[49m\n\u001b[0;32m    597\u001b[0m     out \u001b[38;5;241m=\u001b[39m X, y\n\u001b[0;32m    599\u001b[0m \u001b[38;5;28;01mif\u001b[39;00m \u001b[38;5;129;01mnot\u001b[39;00m no_val_X \u001b[38;5;129;01mand\u001b[39;00m check_params\u001b[38;5;241m.\u001b[39mget(\u001b[38;5;124m\"\u001b[39m\u001b[38;5;124mensure_2d\u001b[39m\u001b[38;5;124m\"\u001b[39m, \u001b[38;5;28;01mTrue\u001b[39;00m):\n",
      "File \u001b[1;32m~\\anaconda3\\lib\\site-packages\\sklearn\\utils\\validation.py:1090\u001b[0m, in \u001b[0;36mcheck_X_y\u001b[1;34m(X, y, accept_sparse, accept_large_sparse, dtype, order, copy, force_all_finite, ensure_2d, allow_nd, multi_output, ensure_min_samples, ensure_min_features, y_numeric, estimator)\u001b[0m\n\u001b[0;32m   1070\u001b[0m     \u001b[38;5;28;01mraise\u001b[39;00m \u001b[38;5;167;01mValueError\u001b[39;00m(\n\u001b[0;32m   1071\u001b[0m         \u001b[38;5;124mf\u001b[39m\u001b[38;5;124m\"\u001b[39m\u001b[38;5;132;01m{\u001b[39;00mestimator_name\u001b[38;5;132;01m}\u001b[39;00m\u001b[38;5;124m requires y to be passed, but the target y is None\u001b[39m\u001b[38;5;124m\"\u001b[39m\n\u001b[0;32m   1072\u001b[0m     )\n\u001b[0;32m   1074\u001b[0m X \u001b[38;5;241m=\u001b[39m check_array(\n\u001b[0;32m   1075\u001b[0m     X,\n\u001b[0;32m   1076\u001b[0m     accept_sparse\u001b[38;5;241m=\u001b[39maccept_sparse,\n\u001b[1;32m   (...)\u001b[0m\n\u001b[0;32m   1087\u001b[0m     input_name\u001b[38;5;241m=\u001b[39m\u001b[38;5;124m\"\u001b[39m\u001b[38;5;124mX\u001b[39m\u001b[38;5;124m\"\u001b[39m,\n\u001b[0;32m   1088\u001b[0m )\n\u001b[1;32m-> 1090\u001b[0m y \u001b[38;5;241m=\u001b[39m \u001b[43m_check_y\u001b[49m\u001b[43m(\u001b[49m\u001b[43my\u001b[49m\u001b[43m,\u001b[49m\u001b[43m \u001b[49m\u001b[43mmulti_output\u001b[49m\u001b[38;5;241;43m=\u001b[39;49m\u001b[43mmulti_output\u001b[49m\u001b[43m,\u001b[49m\u001b[43m \u001b[49m\u001b[43my_numeric\u001b[49m\u001b[38;5;241;43m=\u001b[39;49m\u001b[43my_numeric\u001b[49m\u001b[43m,\u001b[49m\u001b[43m \u001b[49m\u001b[43mestimator\u001b[49m\u001b[38;5;241;43m=\u001b[39;49m\u001b[43mestimator\u001b[49m\u001b[43m)\u001b[49m\n\u001b[0;32m   1092\u001b[0m check_consistent_length(X, y)\n\u001b[0;32m   1094\u001b[0m \u001b[38;5;28;01mreturn\u001b[39;00m X, y\n",
      "File \u001b[1;32m~\\anaconda3\\lib\\site-packages\\sklearn\\utils\\validation.py:1111\u001b[0m, in \u001b[0;36m_check_y\u001b[1;34m(y, multi_output, y_numeric, estimator)\u001b[0m\n\u001b[0;32m   1109\u001b[0m \u001b[38;5;28;01melse\u001b[39;00m:\n\u001b[0;32m   1110\u001b[0m     estimator_name \u001b[38;5;241m=\u001b[39m _check_estimator_name(estimator)\n\u001b[1;32m-> 1111\u001b[0m     y \u001b[38;5;241m=\u001b[39m \u001b[43mcolumn_or_1d\u001b[49m\u001b[43m(\u001b[49m\u001b[43my\u001b[49m\u001b[43m,\u001b[49m\u001b[43m \u001b[49m\u001b[43mwarn\u001b[49m\u001b[38;5;241;43m=\u001b[39;49m\u001b[38;5;28;43;01mTrue\u001b[39;49;00m\u001b[43m)\u001b[49m\n\u001b[0;32m   1112\u001b[0m     _assert_all_finite(y, input_name\u001b[38;5;241m=\u001b[39m\u001b[38;5;124m\"\u001b[39m\u001b[38;5;124my\u001b[39m\u001b[38;5;124m\"\u001b[39m, estimator_name\u001b[38;5;241m=\u001b[39mestimator_name)\n\u001b[0;32m   1113\u001b[0m     _ensure_no_complex_data(y)\n",
      "File \u001b[1;32m~\\anaconda3\\lib\\site-packages\\sklearn\\utils\\validation.py:1156\u001b[0m, in \u001b[0;36mcolumn_or_1d\u001b[1;34m(y, warn)\u001b[0m\n\u001b[0;32m   1147\u001b[0m         warnings\u001b[38;5;241m.\u001b[39mwarn(\n\u001b[0;32m   1148\u001b[0m             \u001b[38;5;124m\"\u001b[39m\u001b[38;5;124mA column-vector y was passed when a 1d array was\u001b[39m\u001b[38;5;124m\"\u001b[39m\n\u001b[0;32m   1149\u001b[0m             \u001b[38;5;124m\"\u001b[39m\u001b[38;5;124m expected. Please change the shape of y to \u001b[39m\u001b[38;5;124m\"\u001b[39m\n\u001b[1;32m   (...)\u001b[0m\n\u001b[0;32m   1152\u001b[0m             stacklevel\u001b[38;5;241m=\u001b[39m\u001b[38;5;241m2\u001b[39m,\n\u001b[0;32m   1153\u001b[0m         )\n\u001b[0;32m   1154\u001b[0m     \u001b[38;5;28;01mreturn\u001b[39;00m np\u001b[38;5;241m.\u001b[39mravel(y)\n\u001b[1;32m-> 1156\u001b[0m \u001b[38;5;28;01mraise\u001b[39;00m \u001b[38;5;167;01mValueError\u001b[39;00m(\n\u001b[0;32m   1157\u001b[0m     \u001b[38;5;124m\"\u001b[39m\u001b[38;5;124my should be a 1d array, got an array of shape \u001b[39m\u001b[38;5;132;01m{}\u001b[39;00m\u001b[38;5;124m instead.\u001b[39m\u001b[38;5;124m\"\u001b[39m\u001b[38;5;241m.\u001b[39mformat(shape)\n\u001b[0;32m   1158\u001b[0m )\n",
      "\u001b[1;31mValueError\u001b[0m: y should be a 1d array, got an array of shape (49000, 784) instead."
     ]
    }
   ],
   "source": [
    "svm_clf = SVC(kernel='linear')\n",
    "X_train.shape\n",
    "svm_clf.fit(X_train, X_train)\n",
    "#https://www.youtube.com/watch?v=7sz4WpkUIIs\n",
    "# svm_clf.fit(X_train, y_train)"
   ]
  },
  {
   "cell_type": "code",
   "execution_count": 28,
   "id": "8dd2e928",
   "metadata": {},
   "outputs": [
    {
     "data": {
      "text/plain": [
       "(16464000, 1)"
      ]
     },
     "execution_count": 28,
     "metadata": {},
     "output_type": "execute_result"
    }
   ],
   "source": [
    "test = y_train.reshape(-1,1)\n",
    "test.shape"
   ]
  },
  {
   "cell_type": "code",
   "execution_count": null,
   "id": "e355d07c",
   "metadata": {},
   "outputs": [],
   "source": []
  },
  {
   "cell_type": "code",
   "execution_count": null,
   "id": "fe711ffb",
   "metadata": {},
   "outputs": [],
   "source": []
  },
  {
   "cell_type": "code",
   "execution_count": null,
   "id": "52f1e711",
   "metadata": {},
   "outputs": [],
   "source": []
  },
  {
   "cell_type": "markdown",
   "id": "23dfc05b",
   "metadata": {},
   "source": [
    "### Standardising our images"
   ]
  },
  {
   "cell_type": "code",
   "execution_count": null,
   "id": "f159d826",
   "metadata": {},
   "outputs": [],
   "source": []
  },
  {
   "cell_type": "code",
   "execution_count": null,
   "id": "47d1b17a",
   "metadata": {},
   "outputs": [],
   "source": []
  },
  {
   "cell_type": "code",
   "execution_count": null,
   "id": "57ebb52d",
   "metadata": {},
   "outputs": [],
   "source": []
  },
  {
   "cell_type": "markdown",
   "id": "39e90bdf",
   "metadata": {},
   "source": []
  },
  {
   "cell_type": "code",
   "execution_count": null,
   "id": "ab6cc150",
   "metadata": {},
   "outputs": [],
   "source": []
  },
  {
   "cell_type": "markdown",
   "id": "a0cf3c18",
   "metadata": {},
   "source": []
  },
  {
   "cell_type": "code",
   "execution_count": null,
   "id": "fce33b6c",
   "metadata": {},
   "outputs": [],
   "source": []
  },
  {
   "cell_type": "code",
   "execution_count": null,
   "id": "e66962f3",
   "metadata": {},
   "outputs": [],
   "source": []
  },
  {
   "cell_type": "code",
   "execution_count": null,
   "id": "098315ca",
   "metadata": {},
   "outputs": [],
   "source": []
  }
 ],
 "metadata": {
  "kernelspec": {
   "display_name": "Python 3 (ipykernel)",
   "language": "python",
   "name": "python3"
  },
  "language_info": {
   "codemirror_mode": {
    "name": "ipython",
    "version": 3
   },
   "file_extension": ".py",
   "mimetype": "text/x-python",
   "name": "python",
   "nbconvert_exporter": "python",
   "pygments_lexer": "ipython3",
   "version": "3.8.8"
  }
 },
 "nbformat": 4,
 "nbformat_minor": 5
}
