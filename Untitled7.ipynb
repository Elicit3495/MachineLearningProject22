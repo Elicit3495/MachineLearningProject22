{
 "cells": [
  {
   "cell_type": "code",
   "execution_count": null,
   "id": "079cf6ad",
   "metadata": {},
   "outputs": [],
   "source": [
    "import pandas as pd\n",
    "import numpy as np\n",
    "import matplotlib.pyplot as plt\n",
    "from sklearn.model_selection import GridSearchCV, RandomizedSearchCV, train_test_split\n",
    "from sklearn.datasets import fetch_openml\n",
    "from matplotlib.colors import ListedColormap\n",
    "from sklearn.linear_model import LinearRegression, LogisticRegression\n",
    "from sklearn.metrics import plot_confusion_matrix\n",
    "from sklearn.neural_network import MLPClassifier\n",
    "\n"
   ]
  },
  {
   "cell_type": "code",
   "execution_count": null,
   "id": "dc9acf72",
   "metadata": {},
   "outputs": [],
   "source": [
    "X_mnist, y_mnist = fetch_openml(name='Fashion-MNIST',return_X_y=True, as_frame=False)"
   ]
  },
  {
   "cell_type": "code",
   "execution_count": null,
   "id": "13014827",
   "metadata": {},
   "outputs": [],
   "source": [
    "#data splitting and standardizing\n",
    "X_train, X_test, y_train, y_test = train_test_split(X_mnist, y_mnist, test_size=0.2)\n",
    "X_train, X_test = X_train / 255. , X_test / 255."
   ]
  },
  {
   "cell_type": "code",
   "execution_count": null,
   "id": "3330c064",
   "metadata": {},
   "outputs": [],
   "source": [
    "X_train = X_train.reshape(X_train.shape[0], -1)\n",
    "X_test = X_test.reshape(X_test.shape[0], -1)\n",
    "X_train.shape, X_test.shape"
   ]
  },
  {
   "cell_type": "code",
   "execution_count": null,
   "id": "54e81976",
   "metadata": {},
   "outputs": [],
   "source": [
    "logreg = LogisticRegression(max_iter=500)\n",
    "logreg.fit(X_train, y_train.flatten())\n",
    "print('Training accuracy: ', round(logreg.score(X_train, y_train.flatten()),2))\n",
    "print('Testing accuracy: ', round(logreg.score(X_test, y_test.flatten()),2))\n"
   ]
  },
  {
   "cell_type": "code",
   "execution_count": null,
   "id": "c2cebc25",
   "metadata": {},
   "outputs": [],
   "source": [
    "#code taken from lab 2\n",
    "nn_clf = MLPClassifier(hidden_layer_sizes=(64),\n",
    "                    activation='relu',\n",
    "                    solver='sgd',\n",
    "                    alpha=0,\n",
    "                    learning_rate_init=1e-3,\n",
    "                    max_iter=200,\n",
    "                    n_iter_no_change=25,\n",
    "                    random_state=1)\n",
    "nn_clf.fit(X_train, y_train.flatten())"
   ]
  },
  {
   "cell_type": "code",
   "execution_count": null,
   "id": "72f39678",
   "metadata": {},
   "outputs": [],
   "source": [
    "fig, ax = plt.subplots(figsize=(12,8))\n",
    "ax.plot(nn_clf.loss_curve_)\n",
    "ax.set_xlabel('Number of iterations')\n",
    "ax.set_ylabel('Loss')"
   ]
  },
  {
   "cell_type": "code",
   "execution_count": null,
   "id": "4f34fa09",
   "metadata": {},
   "outputs": [],
   "source": [
    "nn_clf.get_params"
   ]
  },
  {
   "cell_type": "code",
   "execution_count": null,
   "id": "6bddf048",
   "metadata": {},
   "outputs": [],
   "source": [
    "# param_grid = dict(\n",
    "# alpha=[0,1,10,40,100],\n",
    "# hidden_layer_sizes=[64,128,256,512],\n",
    "# max_iter=[100,300,1000],\n",
    "# n_iter_no_change=[25,30,50,100])\n",
    "alphas = np.logspace(-3, 0, 100)\n",
    "learning_rates = np.logspace(-4, -2, 100)\n",
    "parameters = {'learning_rate_init':learning_rates, 'alpha':alphas}"
   ]
  },
  {
   "cell_type": "code",
   "execution_count": null,
   "id": "caea14df",
   "metadata": {},
   "outputs": [],
   "source": [
    "randomized_search = RandomizedSearchCV(estimator=nn_clf, param_distributions=parameters, n_iter=15, cv=3, verbose=2, scoring='accuracy')"
   ]
  },
  {
   "cell_type": "code",
   "execution_count": null,
   "id": "beb0b893",
   "metadata": {},
   "outputs": [],
   "source": [
    "randomized_search.fit(X_train, y_train.flatten())"
   ]
  },
  {
   "cell_type": "code",
   "execution_count": null,
   "id": "da2da9c7",
   "metadata": {},
   "outputs": [],
   "source": []
  }
 ],
 "metadata": {
  "kernelspec": {
   "display_name": "Python 3 (ipykernel)",
   "language": "python",
   "name": "python3"
  },
  "language_info": {
   "codemirror_mode": {
    "name": "ipython",
    "version": 3
   },
   "file_extension": ".py",
   "mimetype": "text/x-python",
   "name": "python",
   "nbconvert_exporter": "python",
   "pygments_lexer": "ipython3",
   "version": "3.8.8"
  }
 },
 "nbformat": 4,
 "nbformat_minor": 5
}
